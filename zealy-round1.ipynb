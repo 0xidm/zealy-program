{
 "cells": [
  {
   "cell_type": "markdown",
   "id": "88f7e44e-7e33-42e8-bb6c-376bd4421784",
   "metadata": {},
   "source": [
    "# Savvy Zealy Airdrop: Round 1"
   ]
  },
  {
   "cell_type": "code",
   "execution_count": 1,
   "id": "feb1d9cf-a05c-495b-b3bb-cb2aa37c1f12",
   "metadata": {},
   "outputs": [],
   "source": [
    "import json\n",
    "import pandas as pd\n",
    "import numpy as np"
   ]
  },
  {
   "cell_type": "markdown",
   "id": "37edd279-874b-4cc7-88da-a1d787b21b18",
   "metadata": {},
   "source": [
    "I scraped a snapshot of Zealy using their API on November 13, 2023.\n",
    "\n",
    "First load and merge the snapshot. We conclude with the total count of users in the snapshot."
   ]
  },
  {
   "cell_type": "code",
   "execution_count": 2,
   "id": "15b59174-4e1c-4e82-a6ab-dce97d9d7205",
   "metadata": {},
   "outputs": [
    {
     "data": {
      "text/plain": [
       "1820"
      ]
     },
     "execution_count": 2,
     "metadata": {},
     "output_type": "execute_result"
    }
   ],
   "source": [
    "with open('data/p0.json', 'r') as f:\n",
    "    df0 = pd.DataFrame.from_dict(json.load(f)['leaderboard'], orient='columns')\n",
    "\n",
    "with open('data/p1.json', 'r') as f:\n",
    "    df1 = pd.DataFrame.from_dict(json.load(f)['leaderboard'], orient='columns')\n",
    "\n",
    "df = pd.concat([df0, df1])\n",
    "len(df)"
   ]
  },
  {
   "cell_type": "markdown",
   "id": "6763761d-1ab4-4932-83f6-7d63e0930f1b",
   "metadata": {},
   "source": [
    "Count the number of Zealy users with blank addresses."
   ]
  },
  {
   "cell_type": "code",
   "execution_count": 3,
   "id": "918dd0be-250b-49af-9020-f31e4df0cd50",
   "metadata": {},
   "outputs": [
    {
     "data": {
      "text/plain": [
       "14"
      ]
     },
     "execution_count": 3,
     "metadata": {},
     "output_type": "execute_result"
    }
   ],
   "source": [
    "df['address'].replace('', np.nan, inplace=True)\n",
    "df['address'].isna().sum()"
   ]
  },
  {
   "cell_type": "code",
   "execution_count": 4,
   "id": "b5c5aaa4-3424-4bba-806f-70219f6cadb0",
   "metadata": {},
   "outputs": [
    {
     "data": {
      "text/plain": [
       "223"
      ]
     },
     "execution_count": 4,
     "metadata": {},
     "output_type": "execute_result"
    }
   ],
   "source": [
    "df['connectedWallet'].replace('', np.nan, inplace=True)\n",
    "df['connectedWallet'].isna().sum()"
   ]
  },
  {
   "cell_type": "markdown",
   "id": "16014311-5e17-4a4d-a40d-a61dcb94c6d8",
   "metadata": {},
   "source": [
    "Try to recover addresses by examining connectedWallet, too."
   ]
  },
  {
   "cell_type": "code",
   "execution_count": 5,
   "id": "97056792-5bf9-40e2-849a-743dcaf08377",
   "metadata": {},
   "outputs": [
    {
     "data": {
      "text/plain": [
       "14"
      ]
     },
     "execution_count": 5,
     "metadata": {},
     "output_type": "execute_result"
    }
   ],
   "source": [
    "df['addr'] = df['address'].fillna(df['connectedWallet'])\n",
    "df['addr'].isna().sum()"
   ]
  },
  {
   "cell_type": "markdown",
   "id": "6bae383f-fac3-41b5-85e8-5e0f25fa0b0c",
   "metadata": {},
   "source": [
    "Unfortunately, we still have the same number of missing addresses - so none were recovered with this method.\n",
    "\n",
    "Since we cannot airdrop to accounts that never provided addresses, we will drop them to keep the calculations in order."
   ]
  },
  {
   "cell_type": "code",
   "execution_count": 6,
   "id": "f0eb7d5d-fde7-4650-ac43-2c54bcf729c3",
   "metadata": {},
   "outputs": [
    {
     "data": {
      "text/plain": [
       "1806"
      ]
     },
     "execution_count": 6,
     "metadata": {},
     "output_type": "execute_result"
    }
   ],
   "source": [
    "df = df.dropna(subset=['address'])\n",
    "len(df)"
   ]
  },
  {
   "cell_type": "markdown",
   "id": "0f3e7c3c-8277-4047-8fca-db5f5dc82447",
   "metadata": {},
   "source": [
    "Drop any columns that are not necessary for the airdrop."
   ]
  },
  {
   "cell_type": "code",
   "execution_count": 7,
   "id": "df4e42e3-493c-48e2-91fe-012726d1d3d1",
   "metadata": {},
   "outputs": [],
   "source": [
    "df = df.drop(['userId', 'name', 'avatar', 'addresses', 'twitterId', 'discord', 'twitter', 'discordId', 'connectedWallet', 'addr'], axis=1)"
   ]
  },
  {
   "cell_type": "markdown",
   "id": "90805cca-0b6c-4c85-8c6f-c262b1caeee1",
   "metadata": {},
   "source": [
    "Next, we identify accounts for the airdrop and tally the XP total."
   ]
  },
  {
   "cell_type": "code",
   "execution_count": 8,
   "id": "35ee0a68-1bb2-4931-bf59-59633fa7a8cc",
   "metadata": {},
   "outputs": [
    {
     "data": {
      "text/plain": [
       "2118635"
      ]
     },
     "execution_count": 8,
     "metadata": {},
     "output_type": "execute_result"
    }
   ],
   "source": [
    "df = df[df['xp'] > 2000]\n",
    "round_svy_total = 20000\n",
    "total_xp = df['xp'].sum()\n",
    "total_xp"
   ]
  },
  {
   "cell_type": "markdown",
   "id": "75af4454-dc39-4626-9362-5820c88234c2",
   "metadata": {},
   "source": [
    "Distribute this round's 20k SVY across eligible accounts and double-check that it still sums to 20k SVY."
   ]
  },
  {
   "cell_type": "code",
   "execution_count": 9,
   "id": "aa03d9cf-4d46-40d5-b2d5-7dc57468dd16",
   "metadata": {},
   "outputs": [
    {
     "data": {
      "text/plain": [
       "20000.000000000004"
      ]
     },
     "execution_count": 9,
     "metadata": {},
     "output_type": "execute_result"
    }
   ],
   "source": [
    "df['proportion'] = df['xp'] / total_xp\n",
    "df['amount'] = df['proportion'] * round_svy_total\n",
    "df['amount'].sum()"
   ]
  },
  {
   "cell_type": "markdown",
   "id": "62c9364b-e0cb-4e09-986d-b2cccccade1a",
   "metadata": {},
   "source": [
    "Write the results of round1."
   ]
  },
  {
   "cell_type": "code",
   "execution_count": 10,
   "id": "89a7f7d1-142e-44da-8a7a-180cc015a693",
   "metadata": {},
   "outputs": [],
   "source": [
    "df.to_csv('data/round1.csv')"
   ]
  },
  {
   "cell_type": "markdown",
   "id": "88b3a1dc-1c28-41f3-b4ad-67dbf2bb8aa9",
   "metadata": {},
   "source": [
    "Done"
   ]
  }
 ],
 "metadata": {
  "kernelspec": {
   "display_name": "Python 3 (ipykernel)",
   "language": "python",
   "name": "python3"
  },
  "language_info": {
   "codemirror_mode": {
    "name": "ipython",
    "version": 3
   },
   "file_extension": ".py",
   "mimetype": "text/x-python",
   "name": "python",
   "nbconvert_exporter": "python",
   "pygments_lexer": "ipython3",
   "version": "3.10.13"
  }
 },
 "nbformat": 4,
 "nbformat_minor": 5
}
