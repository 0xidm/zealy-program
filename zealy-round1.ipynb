{
 "cells": [
  {
   "cell_type": "markdown",
   "id": "88f7e44e-7e33-42e8-bb6c-376bd4421784",
   "metadata": {},
   "source": [
    "# Savvy Zealy Airdrop: Round 1"
   ]
  },
  {
   "cell_type": "code",
   "execution_count": 1,
   "id": "feb1d9cf-a05c-495b-b3bb-cb2aa37c1f12",
   "metadata": {},
   "outputs": [],
   "source": [
    "import json\n",
    "import pandas as pd"
   ]
  },
  {
   "cell_type": "markdown",
   "id": "37edd279-874b-4cc7-88da-a1d787b21b18",
   "metadata": {},
   "source": [
    "I scraped a snapshot of Zealy using their API on November 13, 2023.\n",
    "\n",
    "Load the snapshot and drop columns that are not necessary for the airdrop."
   ]
  },
  {
   "cell_type": "code",
   "execution_count": 2,
   "id": "15b59174-4e1c-4e82-a6ab-dce97d9d7205",
   "metadata": {},
   "outputs": [],
   "source": [
    "with open('data/p0.json', 'r') as f:\n",
    "    df0 = pd.DataFrame.from_dict(json.load(f)['leaderboard'], orient='columns')\n",
    "\n",
    "with open('data/p1.json', 'r') as f:\n",
    "    df1 = pd.DataFrame.from_dict(json.load(f)['leaderboard'], orient='columns')\n",
    "\n",
    "df = pd.concat([df0, df1])\n",
    "df = df.drop(['userId', 'name', 'avatar', 'addresses', 'twitterId', 'discord', 'twitter', 'discordId', 'connectedWallet'], axis=1)"
   ]
  },
  {
   "cell_type": "markdown",
   "id": "90805cca-0b6c-4c85-8c6f-c262b1caeee1",
   "metadata": {},
   "source": [
    "Next, we identify accounts for the airdrop and tally the XP total."
   ]
  },
  {
   "cell_type": "code",
   "execution_count": 3,
   "id": "35ee0a68-1bb2-4931-bf59-59633fa7a8cc",
   "metadata": {},
   "outputs": [
    {
     "data": {
      "text/plain": [
       "2123935"
      ]
     },
     "execution_count": 3,
     "metadata": {},
     "output_type": "execute_result"
    }
   ],
   "source": [
    "df = df[df['xp'] > 2000]\n",
    "round_svy_total = 20000\n",
    "total_xp = df['xp'].sum()\n",
    "total_xp"
   ]
  },
  {
   "cell_type": "markdown",
   "id": "75af4454-dc39-4626-9362-5820c88234c2",
   "metadata": {},
   "source": [
    "Distribute this round's 20k SVY across eligible accounts and double-check that it still sums to 20k SVY."
   ]
  },
  {
   "cell_type": "code",
   "execution_count": 4,
   "id": "aa03d9cf-4d46-40d5-b2d5-7dc57468dd16",
   "metadata": {},
   "outputs": [
    {
     "data": {
      "text/plain": [
       "20000.0"
      ]
     },
     "execution_count": 4,
     "metadata": {},
     "output_type": "execute_result"
    }
   ],
   "source": [
    "df['proportion'] = df['xp'] / total_xp\n",
    "df['amount'] = df['proportion'] * round_svy_total\n",
    "df['amount'].sum()"
   ]
  },
  {
   "cell_type": "markdown",
   "id": "62c9364b-e0cb-4e09-986d-b2cccccade1a",
   "metadata": {},
   "source": [
    "Write the results of round1."
   ]
  },
  {
   "cell_type": "code",
   "execution_count": 5,
   "id": "89a7f7d1-142e-44da-8a7a-180cc015a693",
   "metadata": {},
   "outputs": [],
   "source": [
    "df.to_csv('data/round1.csv')"
   ]
  },
  {
   "cell_type": "markdown",
   "id": "88b3a1dc-1c28-41f3-b4ad-67dbf2bb8aa9",
   "metadata": {},
   "source": [
    "Done"
   ]
  }
 ],
 "metadata": {
  "kernelspec": {
   "display_name": "Python 3 (ipykernel)",
   "language": "python",
   "name": "python3"
  },
  "language_info": {
   "codemirror_mode": {
    "name": "ipython",
    "version": 3
   },
   "file_extension": ".py",
   "mimetype": "text/x-python",
   "name": "python",
   "nbconvert_exporter": "python",
   "pygments_lexer": "ipython3",
   "version": "3.10.13"
  }
 },
 "nbformat": 4,
 "nbformat_minor": 5
}
