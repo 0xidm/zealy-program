{
 "cells": [
  {
   "cell_type": "code",
   "execution_count": 1,
   "id": "feb1d9cf-a05c-495b-b3bb-cb2aa37c1f12",
   "metadata": {},
   "outputs": [],
   "source": [
    "import json\n",
    "import pandas as pd"
   ]
  },
  {
   "cell_type": "code",
   "execution_count": 29,
   "id": "15b59174-4e1c-4e82-a6ab-dce97d9d7205",
   "metadata": {},
   "outputs": [
    {
     "data": {
      "text/plain": [
       "1820"
      ]
     },
     "execution_count": 29,
     "metadata": {},
     "output_type": "execute_result"
    }
   ],
   "source": [
    "with open('data/p0.json', 'r') as f:\n",
    "    df0 = pd.DataFrame.from_dict(json.load(f)['leaderboard'], orient='columns')\n",
    "\n",
    "with open('data/p1.json', 'r') as f:\n",
    "    df1 = pd.DataFrame.from_dict(json.load(f)['leaderboard'], orient='columns')\n",
    "\n",
    "df = pd.concat([df0, df1])\n",
    "df = df.drop(['userId', 'name', 'avatar', 'addresses', 'twitterId', 'discord', 'twitter', 'discordId', 'connectedWallet'], axis=1)\n",
    "len(df)"
   ]
  },
  {
   "cell_type": "code",
   "execution_count": 34,
   "id": "35ee0a68-1bb2-4931-bf59-59633fa7a8cc",
   "metadata": {},
   "outputs": [
    {
     "data": {
      "text/plain": [
       "3356250"
      ]
     },
     "execution_count": 34,
     "metadata": {},
     "output_type": "execute_result"
    }
   ],
   "source": [
    "round_svy_total = 6000\n",
    "total_xp = df['xp'].sum()\n",
    "total_xp"
   ]
  },
  {
   "cell_type": "code",
   "execution_count": 35,
   "id": "aa03d9cf-4d46-40d5-b2d5-7dc57468dd16",
   "metadata": {},
   "outputs": [],
   "source": [
    "df['proportion'] = df['xp'] / total_xp\n",
    "df['amount'] = df['proportion'] * round_svy_total"
   ]
  },
  {
   "cell_type": "code",
   "execution_count": 36,
   "id": "2f762d4c-533d-4d7c-ba9e-024ce63f69ba",
   "metadata": {},
   "outputs": [
    {
     "data": {
      "text/html": [
       "<div>\n",
       "<style scoped>\n",
       "    .dataframe tbody tr th:only-of-type {\n",
       "        vertical-align: middle;\n",
       "    }\n",
       "\n",
       "    .dataframe tbody tr th {\n",
       "        vertical-align: top;\n",
       "    }\n",
       "\n",
       "    .dataframe thead th {\n",
       "        text-align: right;\n",
       "    }\n",
       "</style>\n",
       "<table border=\"1\" class=\"dataframe\">\n",
       "  <thead>\n",
       "    <tr style=\"text-align: right;\">\n",
       "      <th></th>\n",
       "      <th>xp</th>\n",
       "      <th>numberOfQuests</th>\n",
       "      <th>address</th>\n",
       "      <th>proportion</th>\n",
       "      <th>amount</th>\n",
       "    </tr>\n",
       "  </thead>\n",
       "  <tbody>\n",
       "    <tr>\n",
       "      <th>0</th>\n",
       "      <td>14995</td>\n",
       "      <td>141</td>\n",
       "      <td>0x51F6749Dee3510F983C15B7c239CC6df4e4054Ea</td>\n",
       "      <td>0.004468</td>\n",
       "      <td>26.806704</td>\n",
       "    </tr>\n",
       "    <tr>\n",
       "      <th>1</th>\n",
       "      <td>14530</td>\n",
       "      <td>119</td>\n",
       "      <td>0x7c318bfBe63833E7a291e130337652C94C6EE464</td>\n",
       "      <td>0.004329</td>\n",
       "      <td>25.975419</td>\n",
       "    </tr>\n",
       "    <tr>\n",
       "      <th>2</th>\n",
       "      <td>12030</td>\n",
       "      <td>87</td>\n",
       "      <td>0x46f3cC6a1c00A5cD8864d2B92f128196CAE07D15</td>\n",
       "      <td>0.003584</td>\n",
       "      <td>21.506145</td>\n",
       "    </tr>\n",
       "    <tr>\n",
       "      <th>3</th>\n",
       "      <td>11470</td>\n",
       "      <td>97</td>\n",
       "      <td>0x56EbC608fD6B8F8CeF2775a3Ee0DddaEc01A7000</td>\n",
       "      <td>0.003418</td>\n",
       "      <td>20.505028</td>\n",
       "    </tr>\n",
       "    <tr>\n",
       "      <th>4</th>\n",
       "      <td>11240</td>\n",
       "      <td>96</td>\n",
       "      <td>0xa3732fC9d975f9Aa1cfD069C991cDd3714d7c8f8</td>\n",
       "      <td>0.003349</td>\n",
       "      <td>20.093855</td>\n",
       "    </tr>\n",
       "    <tr>\n",
       "      <th>...</th>\n",
       "      <td>...</td>\n",
       "      <td>...</td>\n",
       "      <td>...</td>\n",
       "      <td>...</td>\n",
       "      <td>...</td>\n",
       "    </tr>\n",
       "    <tr>\n",
       "      <th>815</th>\n",
       "      <td>10</td>\n",
       "      <td>1</td>\n",
       "      <td>0xEc263df053412D5816bd1B5BF3736bAf2809163a</td>\n",
       "      <td>0.000003</td>\n",
       "      <td>0.017877</td>\n",
       "    </tr>\n",
       "    <tr>\n",
       "      <th>816</th>\n",
       "      <td>10</td>\n",
       "      <td>1</td>\n",
       "      <td>0x3DA972d8F5bD733A59f1c77cCc1953dAc2862343</td>\n",
       "      <td>0.000003</td>\n",
       "      <td>0.017877</td>\n",
       "    </tr>\n",
       "    <tr>\n",
       "      <th>817</th>\n",
       "      <td>10</td>\n",
       "      <td>1</td>\n",
       "      <td>0xe0854F6B6c06587Ac3f1f4dbC992858bf8725224</td>\n",
       "      <td>0.000003</td>\n",
       "      <td>0.017877</td>\n",
       "    </tr>\n",
       "    <tr>\n",
       "      <th>818</th>\n",
       "      <td>10</td>\n",
       "      <td>1</td>\n",
       "      <td>0x8FD99800307a2a761403441E634d97f191BCe45D</td>\n",
       "      <td>0.000003</td>\n",
       "      <td>0.017877</td>\n",
       "    </tr>\n",
       "    <tr>\n",
       "      <th>819</th>\n",
       "      <td>10</td>\n",
       "      <td>1</td>\n",
       "      <td>0x3EDbbC2efa30e974c62Ab4229F00FC3B4a69F071</td>\n",
       "      <td>0.000003</td>\n",
       "      <td>0.017877</td>\n",
       "    </tr>\n",
       "  </tbody>\n",
       "</table>\n",
       "<p>1820 rows × 5 columns</p>\n",
       "</div>"
      ],
      "text/plain": [
       "        xp  numberOfQuests                                     address  \\\n",
       "0    14995             141  0x51F6749Dee3510F983C15B7c239CC6df4e4054Ea   \n",
       "1    14530             119  0x7c318bfBe63833E7a291e130337652C94C6EE464   \n",
       "2    12030              87  0x46f3cC6a1c00A5cD8864d2B92f128196CAE07D15   \n",
       "3    11470              97  0x56EbC608fD6B8F8CeF2775a3Ee0DddaEc01A7000   \n",
       "4    11240              96  0xa3732fC9d975f9Aa1cfD069C991cDd3714d7c8f8   \n",
       "..     ...             ...                                         ...   \n",
       "815     10               1  0xEc263df053412D5816bd1B5BF3736bAf2809163a   \n",
       "816     10               1  0x3DA972d8F5bD733A59f1c77cCc1953dAc2862343   \n",
       "817     10               1  0xe0854F6B6c06587Ac3f1f4dbC992858bf8725224   \n",
       "818     10               1  0x8FD99800307a2a761403441E634d97f191BCe45D   \n",
       "819     10               1  0x3EDbbC2efa30e974c62Ab4229F00FC3B4a69F071   \n",
       "\n",
       "     proportion     amount  \n",
       "0      0.004468  26.806704  \n",
       "1      0.004329  25.975419  \n",
       "2      0.003584  21.506145  \n",
       "3      0.003418  20.505028  \n",
       "4      0.003349  20.093855  \n",
       "..          ...        ...  \n",
       "815    0.000003   0.017877  \n",
       "816    0.000003   0.017877  \n",
       "817    0.000003   0.017877  \n",
       "818    0.000003   0.017877  \n",
       "819    0.000003   0.017877  \n",
       "\n",
       "[1820 rows x 5 columns]"
      ]
     },
     "execution_count": 36,
     "metadata": {},
     "output_type": "execute_result"
    }
   ],
   "source": [
    "df"
   ]
  },
  {
   "cell_type": "code",
   "execution_count": 33,
   "id": "89a7f7d1-142e-44da-8a7a-180cc015a693",
   "metadata": {},
   "outputs": [],
   "source": [
    "df.to_csv('data/round1.csv')"
   ]
  }
 ],
 "metadata": {
  "kernelspec": {
   "display_name": "Python 3 (ipykernel)",
   "language": "python",
   "name": "python3"
  },
  "language_info": {
   "codemirror_mode": {
    "name": "ipython",
    "version": 3
   },
   "file_extension": ".py",
   "mimetype": "text/x-python",
   "name": "python",
   "nbconvert_exporter": "python",
   "pygments_lexer": "ipython3",
   "version": "3.10.13"
  }
 },
 "nbformat": 4,
 "nbformat_minor": 5
}
